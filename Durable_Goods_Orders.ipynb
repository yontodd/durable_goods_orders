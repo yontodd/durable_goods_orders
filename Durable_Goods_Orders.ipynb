{
  "nbformat": 4,
  "nbformat_minor": 0,
  "metadata": {
    "colab": {
      "name": "Durable Goods Orders.ipynb",
      "provenance": [],
      "authorship_tag": "ABX9TyOHgrXhSuNzqJQIe7bK+1Gz",
      "include_colab_link": true
    },
    "kernelspec": {
      "name": "python3",
      "display_name": "Python 3"
    },
    "language_info": {
      "name": "python"
    }
  },
  "cells": [
    {
      "cell_type": "markdown",
      "metadata": {
        "id": "view-in-github",
        "colab_type": "text"
      },
      "source": [
        "<a href=\"https://colab.research.google.com/github/yontodd/durable_goods_orders/blob/main/Durable_Goods_Orders.ipynb\" target=\"_parent\"><img src=\"https://colab.research.google.com/assets/colab-badge.svg\" alt=\"Open In Colab\"/></a>"
      ]
    },
    {
      "cell_type": "markdown",
      "metadata": {
        "id": "AcqiQ6ezH5rN"
      },
      "source": [
        "# Durable goods orders\n"
      ]
    },
    {
      "cell_type": "code",
      "metadata": {
        "id": "ysF9yQip9JAo"
      },
      "source": [
        "import requests\n",
        "import datetime\n",
        "import pandas as pd\n",
        "import numpy as np"
      ],
      "execution_count": 44,
      "outputs": []
    },
    {
      "cell_type": "code",
      "metadata": {
        "id": "QSTy3Q9KIVsB"
      },
      "source": [
        "current_year = '2021'\n",
        "current_month = '03'\n",
        "current = current_year + \"-\" + current_month"
      ],
      "execution_count": 45,
      "outputs": []
    },
    {
      "cell_type": "code",
      "metadata": {
        "id": "59b2B5BcKAgX"
      },
      "source": [
        "prior_month = ()\n",
        "prior_year = ()\n",
        "\n",
        "if current_month == 1:\n",
        "  prior_month = 12\n",
        "else:\n",
        "  prior_month = str((int(current_month) - 1)).zfill(2)\n",
        "\n",
        "if current_month == 1:\n",
        "  prior_year = str((int(current_year) - 1))\n",
        "else:\n",
        "  prior_year = (current_year)\n",
        "\n",
        "prior = prior_year + '-' + prior_month"
      ],
      "execution_count": 46,
      "outputs": []
    },
    {
      "cell_type": "code",
      "metadata": {
        "colab": {
          "base_uri": "https://localhost:8080/"
        },
        "id": "mgQvgTugyIir",
        "outputId": "d1d13520-2880-46d7-b3c8-8f6cfa8a46f9"
      },
      "source": [
        "print(\"Current month: {}\".format(current))\n",
        "print(\"Prior month: {}\".format(prior))"
      ],
      "execution_count": 47,
      "outputs": [
        {
          "output_type": "stream",
          "text": [
            "Current month: 2021-03\n",
            "Prior month: 2021-02\n"
          ],
          "name": "stdout"
        }
      ]
    },
    {
      "cell_type": "code",
      "metadata": {
        "id": "lTNm6eMcCzPh"
      },
      "source": [
        "base_url = \"https://api.census.gov/data/timeseries/eits/advm3?get=data_type_code,time_slot_id,seasonally_adj,category_code,cell_value,error_data&for=us:*&time=from+{}\".format(prior)"
      ],
      "execution_count": 48,
      "outputs": []
    },
    {
      "cell_type": "code",
      "metadata": {
        "id": "1YEywlpIrsDP"
      },
      "source": [
        "response = requests.get(base_url)\n",
        "data = response.json()\n",
        "df = pd.DataFrame(data[1:], columns = data[0])"
      ],
      "execution_count": 49,
      "outputs": []
    },
    {
      "cell_type": "code",
      "metadata": {
        "id": "xU9Y0K1rg2Tn"
      },
      "source": [
        "rpt_list = [\"Headline durable goods orders\", \"Durable Goods (ex. transportation\", \"Core durable goods orders (ex. defense and aircraft)\", \"Core capital goods shipments (which feeds into GDP\"]\n",
        "data_type_code = [\"MPCNO\", \"MPCNO\", \"MPCNO\", \"MPCVS\"]\n",
        "category_code = [\"MDM\", \"DXT\", \"DXD\", \"NXA\"]\n",
        "cols = [\"Report\", \"data_type_code\",\"category_code\"]\n",
        "zip_list = pd.DataFrame(zip(rpt_list, data_type_code, category_code))\n",
        "zip_list.columns = cols"
      ],
      "execution_count": 53,
      "outputs": []
    },
    {
      "cell_type": "code",
      "metadata": {
        "id": "EQZEJ2Kr9d8M"
      },
      "source": [
        "type_variables = [\"MPCNO\",\"MPCVS\"]\n",
        "cat_variables = [\"MDM\",\"DXT\",\"DXD\",\"NXA\"]\n",
        "seas_code = \"yes\"\n",
        "dg_data = df[(df.data_type_code.isin(type_variables)) &\n",
        "   (df.category_code.isin(cat_variables)) &\n",
        "   (df[\"seasonally_adj\"] == seas_code)]"
      ],
      "execution_count": 54,
      "outputs": []
    },
    {
      "cell_type": "code",
      "metadata": {
        "id": "RPpHAwJojjIx"
      },
      "source": [
        "durable_goods_orders = pd.merge(zip_list, dg_data, how = 'left', left_on = [\"data_type_code\",\"category_code\"], right_on = [\"data_type_code\",\"category_code\"])"
      ],
      "execution_count": 55,
      "outputs": []
    },
    {
      "cell_type": "code",
      "metadata": {
        "colab": {
          "base_uri": "https://localhost:8080/",
          "height": 297
        },
        "id": "4ioWVvRRm2FG",
        "outputId": "3c081c01-678b-4178-c884-495620537e9b"
      },
      "source": [
        "durable_goods_orders"
      ],
      "execution_count": 56,
      "outputs": [
        {
          "output_type": "execute_result",
          "data": {
            "text/html": [
              "<div>\n",
              "<style scoped>\n",
              "    .dataframe tbody tr th:only-of-type {\n",
              "        vertical-align: middle;\n",
              "    }\n",
              "\n",
              "    .dataframe tbody tr th {\n",
              "        vertical-align: top;\n",
              "    }\n",
              "\n",
              "    .dataframe thead th {\n",
              "        text-align: right;\n",
              "    }\n",
              "</style>\n",
              "<table border=\"1\" class=\"dataframe\">\n",
              "  <thead>\n",
              "    <tr style=\"text-align: right;\">\n",
              "      <th></th>\n",
              "      <th>Report</th>\n",
              "      <th>data_type_code</th>\n",
              "      <th>category_code</th>\n",
              "      <th>time_slot_id</th>\n",
              "      <th>seasonally_adj</th>\n",
              "      <th>cell_value</th>\n",
              "      <th>error_data</th>\n",
              "      <th>time</th>\n",
              "      <th>us</th>\n",
              "    </tr>\n",
              "  </thead>\n",
              "  <tbody>\n",
              "    <tr>\n",
              "      <th>0</th>\n",
              "      <td>Headline durable goods orders</td>\n",
              "      <td>MPCNO</td>\n",
              "      <td>MDM</td>\n",
              "      <td>854</td>\n",
              "      <td>yes</td>\n",
              "      <td>-0.9</td>\n",
              "      <td>no</td>\n",
              "      <td>2021-02</td>\n",
              "      <td>1</td>\n",
              "    </tr>\n",
              "    <tr>\n",
              "      <th>1</th>\n",
              "      <td>Headline durable goods orders</td>\n",
              "      <td>MPCNO</td>\n",
              "      <td>MDM</td>\n",
              "      <td>855</td>\n",
              "      <td>yes</td>\n",
              "      <td>0.5</td>\n",
              "      <td>no</td>\n",
              "      <td>2021-03</td>\n",
              "      <td>1</td>\n",
              "    </tr>\n",
              "    <tr>\n",
              "      <th>2</th>\n",
              "      <td>Durable Goods (ex. transportation</td>\n",
              "      <td>MPCNO</td>\n",
              "      <td>DXT</td>\n",
              "      <td>854</td>\n",
              "      <td>yes</td>\n",
              "      <td>-0.3</td>\n",
              "      <td>no</td>\n",
              "      <td>2021-02</td>\n",
              "      <td>1</td>\n",
              "    </tr>\n",
              "    <tr>\n",
              "      <th>3</th>\n",
              "      <td>Durable Goods (ex. transportation</td>\n",
              "      <td>MPCNO</td>\n",
              "      <td>DXT</td>\n",
              "      <td>855</td>\n",
              "      <td>yes</td>\n",
              "      <td>1.6</td>\n",
              "      <td>no</td>\n",
              "      <td>2021-03</td>\n",
              "      <td>1</td>\n",
              "    </tr>\n",
              "    <tr>\n",
              "      <th>4</th>\n",
              "      <td>Core durable goods orders (ex. defense and air...</td>\n",
              "      <td>MPCNO</td>\n",
              "      <td>DXD</td>\n",
              "      <td>854</td>\n",
              "      <td>yes</td>\n",
              "      <td>-0.4</td>\n",
              "      <td>no</td>\n",
              "      <td>2021-02</td>\n",
              "      <td>1</td>\n",
              "    </tr>\n",
              "    <tr>\n",
              "      <th>5</th>\n",
              "      <td>Core durable goods orders (ex. defense and air...</td>\n",
              "      <td>MPCNO</td>\n",
              "      <td>DXD</td>\n",
              "      <td>855</td>\n",
              "      <td>yes</td>\n",
              "      <td>0.5</td>\n",
              "      <td>no</td>\n",
              "      <td>2021-03</td>\n",
              "      <td>1</td>\n",
              "    </tr>\n",
              "    <tr>\n",
              "      <th>6</th>\n",
              "      <td>Core capital goods shipments (which feeds into...</td>\n",
              "      <td>MPCVS</td>\n",
              "      <td>NXA</td>\n",
              "      <td>854</td>\n",
              "      <td>yes</td>\n",
              "      <td>-1.1</td>\n",
              "      <td>no</td>\n",
              "      <td>2021-02</td>\n",
              "      <td>1</td>\n",
              "    </tr>\n",
              "    <tr>\n",
              "      <th>7</th>\n",
              "      <td>Core capital goods shipments (which feeds into...</td>\n",
              "      <td>MPCVS</td>\n",
              "      <td>NXA</td>\n",
              "      <td>855</td>\n",
              "      <td>yes</td>\n",
              "      <td>1.3</td>\n",
              "      <td>no</td>\n",
              "      <td>2021-03</td>\n",
              "      <td>1</td>\n",
              "    </tr>\n",
              "  </tbody>\n",
              "</table>\n",
              "</div>"
            ],
            "text/plain": [
              "                                              Report data_type_code  ...     time us\n",
              "0                      Headline durable goods orders          MPCNO  ...  2021-02  1\n",
              "1                      Headline durable goods orders          MPCNO  ...  2021-03  1\n",
              "2                  Durable Goods (ex. transportation          MPCNO  ...  2021-02  1\n",
              "3                  Durable Goods (ex. transportation          MPCNO  ...  2021-03  1\n",
              "4  Core durable goods orders (ex. defense and air...          MPCNO  ...  2021-02  1\n",
              "5  Core durable goods orders (ex. defense and air...          MPCNO  ...  2021-03  1\n",
              "6  Core capital goods shipments (which feeds into...          MPCVS  ...  2021-02  1\n",
              "7  Core capital goods shipments (which feeds into...          MPCVS  ...  2021-03  1\n",
              "\n",
              "[8 rows x 9 columns]"
            ]
          },
          "metadata": {
            "tags": []
          },
          "execution_count": 56
        }
      ]
    }
  ]
}