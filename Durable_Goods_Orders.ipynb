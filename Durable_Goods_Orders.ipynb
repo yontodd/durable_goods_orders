{
  "nbformat": 4,
  "nbformat_minor": 0,
  "metadata": {
    "colab": {
      "name": "Durable Goods Orders.ipynb",
      "provenance": [],
      "authorship_tag": "ABX9TyODGJktbXWOoLbSME8OhWfh",
      "include_colab_link": true
    },
    "kernelspec": {
      "name": "python3",
      "display_name": "Python 3"
    },
    "language_info": {
      "name": "python"
    }
  },
  "cells": [
    {
      "cell_type": "markdown",
      "metadata": {
        "id": "view-in-github",
        "colab_type": "text"
      },
      "source": [
        "<a href=\"https://colab.research.google.com/github/yontodd/durable_goods_orders/blob/main/Durable_Goods_Orders.ipynb\" target=\"_parent\"><img src=\"https://colab.research.google.com/assets/colab-badge.svg\" alt=\"Open In Colab\"/></a>"
      ]
    },
    {
      "cell_type": "markdown",
      "metadata": {
        "id": "AcqiQ6ezH5rN"
      },
      "source": [
        "# Durable goods orders\n"
      ]
    },
    {
      "cell_type": "code",
      "metadata": {
        "id": "-7KI421YAuSy"
      },
      "source": [
        "# Input???"
      ],
      "execution_count": 8,
      "outputs": []
    },
    {
      "cell_type": "code",
      "metadata": {
        "id": "ysF9yQip9JAo"
      },
      "source": [
        "import requests\n",
        "import datetime\n",
        "import pandas as pd\n",
        "import numpy as np"
      ],
      "execution_count": 9,
      "outputs": []
    },
    {
      "cell_type": "code",
      "metadata": {
        "id": "QSTy3Q9KIVsB"
      },
      "source": [
        "current_year = '2021'\n",
        "current_month = '03'\n",
        "current = current_year + \"-\" + current_month"
      ],
      "execution_count": 10,
      "outputs": []
    },
    {
      "cell_type": "code",
      "metadata": {
        "id": "59b2B5BcKAgX"
      },
      "source": [
        "prior_month = ()\n",
        "prior_year = ()\n",
        "\n",
        "if current_month == 1:\n",
        "  prior_month = 12\n",
        "else:\n",
        "  prior_month = str((int(current_month) - 1)).zfill(2)\n",
        "\n",
        "if current_month == 1:\n",
        "  prior_year = str((int(current_year) - 1))\n",
        "else:\n",
        "  prior_year = (current_year)\n",
        "\n",
        "prior = prior_year + '-' + prior_month"
      ],
      "execution_count": 26,
      "outputs": []
    },
    {
      "cell_type": "code",
      "metadata": {
        "id": "mgQvgTugyIir"
      },
      "source": [
        "print(\"Current month: {}\".format(current))\n",
        "print(\"Prior month: {}\".format(prior))"
      ],
      "execution_count": null,
      "outputs": []
    },
    {
      "cell_type": "code",
      "metadata": {
        "id": "lTNm6eMcCzPh"
      },
      "source": [
        "base_url = \"https://api.census.gov/data/timeseries/eits/advm3?get=data_type_code,time_slot_id,seasonally_adj,category_code,cell_value,error_data&for=us:*&time=from+{}\".format(prior)"
      ],
      "execution_count": null,
      "outputs": []
    },
    {
      "cell_type": "code",
      "metadata": {
        "id": "1YEywlpIrsDP"
      },
      "source": [
        "response = requests.get(base_url)\n",
        "data = response.json()\n",
        "df = pd.DataFrame(data[1:], columns = data[0])"
      ],
      "execution_count": null,
      "outputs": []
    },
    {
      "cell_type": "code",
      "metadata": {
        "id": "xU9Y0K1rg2Tn"
      },
      "source": [
        "rpt_list = [\"Headline durable goods orders\", \"Durable Goods (ex. transportation\", \"Core durable goods orders (ex. defense and aircraft)\", \"Core capital goods shipments (which feeds into GDP\"]\n",
        "data_type_code = [\"MPCNO\", \"MPCNO\", \"MPCNO\", \"MPCVS\"]\n",
        "category_code = [\"MDM\", \"DXT\", \"DXD\", \"NXA\"]\n",
        "cols = [\"Report\", \"data_type_code\",\"category_code\"]\n",
        "zip_list = pd.DataFrame(zip(rpt_list, code_list, cat_list))\n",
        "zip_list.columns = cols"
      ],
      "execution_count": null,
      "outputs": []
    },
    {
      "cell_type": "code",
      "metadata": {
        "id": "EQZEJ2Kr9d8M"
      },
      "source": [
        "type_variables = [\"MPCNO\",\"MPCVS\"]\n",
        "cat_variables = [\"MDM\",\"DXT\",\"DXD\",\"NXA\"]\n",
        "seas_code = \"yes\"\n",
        "dg_data = df[(df.data_type_code.isin(type_variables)) &\n",
        "   (df.category_code.isin(cat_variables)) &\n",
        "   (df[\"seasonally_adj\"] == seas_code)]"
      ],
      "execution_count": null,
      "outputs": []
    },
    {
      "cell_type": "code",
      "metadata": {
        "id": "RPpHAwJojjIx"
      },
      "source": [
        "durable_goods_orders = pd.merge(zip_list, dg_data, how = 'left', left_on = [\"data_type_code\",\"category_code\"], right_on = [\"data_type_code\",\"category_code\"])\n"
      ],
      "execution_count": null,
      "outputs": []
    },
    {
      "cell_type": "code",
      "metadata": {
        "colab": {
          "base_uri": "https://localhost:8080/"
        },
        "id": "nNYCHuI5A3zG",
        "outputId": "17d6d1dc-26c2-48f4-a6ba-76356c627e52"
      },
      "source": [
        ""
      ],
      "execution_count": 27,
      "outputs": [
        {
          "output_type": "stream",
          "text": [
            "03\n",
            "02\n"
          ],
          "name": "stdout"
        }
      ]
    }
  ]
}